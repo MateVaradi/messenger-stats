{
 "cells": [
  {
   "cell_type": "markdown",
   "id": "205bfe0e",
   "metadata": {},
   "source": [
    "## Preparations"
   ]
  },
  {
   "cell_type": "code",
   "execution_count": null,
   "id": "ac3c59cb",
   "metadata": {},
   "outputs": [],
   "source": [
    "import pandas as pd\n",
    "import numpy as np\n",
    "import seaborn as sns\n",
    "import matplotlib.pyplot as plt\n",
    "from matplotlib.backends.backend_pdf import PdfPages\n",
    "import os\n",
    "\n",
    "os.chdir(\"..\")\n",
    "from data_cleaning import prepare_data\n",
    "from plotting import MessengerReport\n",
    "from aesthetics import set_colors"
   ]
  },
  {
   "cell_type": "code",
   "execution_count": null,
   "id": "ee4fe370",
   "metadata": {},
   "outputs": [],
   "source": [
    "# Set folder name - name of the folder where message files are saved\n",
    "folder = \"my_friend_group\""
   ]
  },
  {
   "cell_type": "markdown",
   "id": "22c33966",
   "metadata": {},
   "source": [
    "## Data cleaning"
   ]
  },
  {
   "cell_type": "code",
   "execution_count": null,
   "id": "0db132af",
   "metadata": {},
   "outputs": [],
   "source": [
    "df = prepare_data(f\"data/{folder}/\", \n",
    "                  exclude_members=[\"John Doe\"] # you can specify members to exclude from the report\n",
    "                 )"
   ]
  },
  {
   "cell_type": "code",
   "execution_count": null,
   "id": "00e1daf2",
   "metadata": {},
   "outputs": [],
   "source": [
    "df.head()"
   ]
  },
  {
   "cell_type": "code",
   "execution_count": null,
   "id": "c0469553",
   "metadata": {},
   "outputs": [],
   "source": [
    "# Save data\n",
    "df.to_csv(f\"data/{folder}/{folder}.csv\", index=False)"
   ]
  },
  {
   "cell_type": "markdown",
   "id": "c2d77f39",
   "metadata": {},
   "source": [
    "## Analysis"
   ]
  },
  {
   "cell_type": "code",
   "execution_count": null,
   "id": "ffe0e907",
   "metadata": {},
   "outputs": [],
   "source": [
    "members = sorted(df.sender_name.unique().tolist())\n",
    "color_dict = set_colors(members)\n",
    "mr = MessengerReport(data=df, \n",
    "                     color_dict=color_dict,\n",
    "                     folder_name=folder)"
   ]
  },
  {
   "cell_type": "code",
   "execution_count": null,
   "id": "5bbc8bcd",
   "metadata": {},
   "outputs": [],
   "source": [
    "mr.plot_message_volume()"
   ]
  },
  {
   "cell_type": "code",
   "execution_count": null,
   "id": "662e2cf4",
   "metadata": {},
   "outputs": [],
   "source": [
    "mr.plot_daily_use()"
   ]
  },
  {
   "cell_type": "code",
   "execution_count": null,
   "id": "9cd23658",
   "metadata": {},
   "outputs": [],
   "source": [
    "mr.plot_historic_use()"
   ]
  },
  {
   "cell_type": "code",
   "execution_count": null,
   "id": "1c3b441a",
   "metadata": {},
   "outputs": [],
   "source": [
    "mr.sample_messages_with_emoji(\"❤\", threshold=4)"
   ]
  },
  {
   "cell_type": "code",
   "execution_count": null,
   "id": "af9a87dc",
   "metadata": {},
   "outputs": [],
   "source": [
    "mr.plot_emoji_received(\"😆\", threshold=7)"
   ]
  },
  {
   "cell_type": "code",
   "execution_count": null,
   "id": "a1fc048d",
   "metadata": {},
   "outputs": [],
   "source": [
    "mr.plot_reactions()"
   ]
  },
  {
   "cell_type": "markdown",
   "id": "3bbb940d",
   "metadata": {},
   "source": [
    "Plot reaction network of a selected emoji\n",
    "\n",
    "Edge widths represent the relative proportion of reactions sent from member a to member b. If all edge widths appear the same, the distribution of reactions is roughly uniform for the member where edges originate from."
   ]
  },
  {
   "cell_type": "code",
   "execution_count": null,
   "id": "adbbbd4b",
   "metadata": {},
   "outputs": [],
   "source": [
    "mr.plot_reaction_network(\"❤️\")"
   ]
  },
  {
   "cell_type": "markdown",
   "id": "5ba40707",
   "metadata": {},
   "source": [
    "Run and save the full pdf report \n",
    "Settings (such as which emoji and thresholds to use can be modified by changing plotting.py)"
   ]
  },
  {
   "cell_type": "code",
   "execution_count": null,
   "id": "358a36ac",
   "metadata": {},
   "outputs": [],
   "source": [
    "mr.pdf_report()"
   ]
  },
  {
   "cell_type": "code",
   "execution_count": null,
   "id": "3078ffba",
   "metadata": {},
   "outputs": [],
   "source": []
  }
 ],
 "metadata": {
  "kernelspec": {
   "display_name": "Python 3 (ipykernel)",
   "language": "python",
   "name": "python3"
  },
  "language_info": {
   "codemirror_mode": {
    "name": "ipython",
    "version": 3
   },
   "file_extension": ".py",
   "mimetype": "text/x-python",
   "name": "python",
   "nbconvert_exporter": "python",
   "pygments_lexer": "ipython3",
   "version": "3.9.7"
  }
 },
 "nbformat": 4,
 "nbformat_minor": 5
}
